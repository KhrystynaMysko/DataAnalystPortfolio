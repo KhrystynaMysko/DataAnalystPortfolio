{
 "cells": [
  {
   "cell_type": "markdown",
   "metadata": {},
   "source": [
    "# Stage 2. Compile summary information about the data\n",
    "The purpose of this stage is to investigate and understand the data before starting EDA. Main tasks for this stage:\n",
    "1. Importing dataset\n",
    "2. Identifying relevant data structures and summarizing data\n",
    "3. Extracting information from columns\n",
    "4. Combining or modifying data structures to create meaningful variables\n"
   ]
  },
  {
   "cell_type": "markdown",
   "metadata": {},
   "source": [
    "1. Importing dataset "
   ]
  },
  {
   "cell_type": "code",
   "execution_count": 2,
   "metadata": {},
   "outputs": [],
   "source": [
    "# import all necessary packages\n",
    "import pandas as pd\n",
    "import numpy as np"
   ]
  },
  {
   "cell_type": "code",
   "execution_count": 3,
   "metadata": {},
   "outputs": [],
   "source": [
    "# loading dataset into a dataframe\n",
    "df = pd.read_csv('waze_dataset.csv')"
   ]
  },
  {
   "cell_type": "markdown",
   "metadata": {},
   "source": [
    "2. Identifying relevant data structures and summarizing data\n",
    "\n",
    "For that, I use methods head() and info() to get general information about the dataframe structure, size, data types of content and the presence of missing values."
   ]
  },
  {
   "cell_type": "code",
   "execution_count": 4,
   "metadata": {},
   "outputs": [
    {
     "data": {
      "text/html": [
       "<div>\n",
       "<style scoped>\n",
       "    .dataframe tbody tr th:only-of-type {\n",
       "        vertical-align: middle;\n",
       "    }\n",
       "\n",
       "    .dataframe tbody tr th {\n",
       "        vertical-align: top;\n",
       "    }\n",
       "\n",
       "    .dataframe thead th {\n",
       "        text-align: right;\n",
       "    }\n",
       "</style>\n",
       "<table border=\"1\" class=\"dataframe\">\n",
       "  <thead>\n",
       "    <tr style=\"text-align: right;\">\n",
       "      <th></th>\n",
       "      <th>ID</th>\n",
       "      <th>label</th>\n",
       "      <th>sessions</th>\n",
       "      <th>drives</th>\n",
       "      <th>total_sessions</th>\n",
       "      <th>n_days_after_onboarding</th>\n",
       "      <th>total_navigations_fav1</th>\n",
       "      <th>total_navigations_fav2</th>\n",
       "      <th>driven_km_drives</th>\n",
       "      <th>duration_minutes_drives</th>\n",
       "      <th>activity_days</th>\n",
       "      <th>driving_days</th>\n",
       "      <th>device</th>\n",
       "    </tr>\n",
       "  </thead>\n",
       "  <tbody>\n",
       "    <tr>\n",
       "      <th>0</th>\n",
       "      <td>0</td>\n",
       "      <td>retained</td>\n",
       "      <td>283</td>\n",
       "      <td>226</td>\n",
       "      <td>296.748273</td>\n",
       "      <td>2276</td>\n",
       "      <td>208</td>\n",
       "      <td>0</td>\n",
       "      <td>2628.845068</td>\n",
       "      <td>1985.775061</td>\n",
       "      <td>28</td>\n",
       "      <td>19</td>\n",
       "      <td>Android</td>\n",
       "    </tr>\n",
       "    <tr>\n",
       "      <th>1</th>\n",
       "      <td>1</td>\n",
       "      <td>retained</td>\n",
       "      <td>133</td>\n",
       "      <td>107</td>\n",
       "      <td>326.896596</td>\n",
       "      <td>1225</td>\n",
       "      <td>19</td>\n",
       "      <td>64</td>\n",
       "      <td>13715.920550</td>\n",
       "      <td>3160.472914</td>\n",
       "      <td>13</td>\n",
       "      <td>11</td>\n",
       "      <td>iPhone</td>\n",
       "    </tr>\n",
       "    <tr>\n",
       "      <th>2</th>\n",
       "      <td>2</td>\n",
       "      <td>retained</td>\n",
       "      <td>114</td>\n",
       "      <td>95</td>\n",
       "      <td>135.522926</td>\n",
       "      <td>2651</td>\n",
       "      <td>0</td>\n",
       "      <td>0</td>\n",
       "      <td>3059.148818</td>\n",
       "      <td>1610.735904</td>\n",
       "      <td>14</td>\n",
       "      <td>8</td>\n",
       "      <td>Android</td>\n",
       "    </tr>\n",
       "    <tr>\n",
       "      <th>3</th>\n",
       "      <td>3</td>\n",
       "      <td>retained</td>\n",
       "      <td>49</td>\n",
       "      <td>40</td>\n",
       "      <td>67.589221</td>\n",
       "      <td>15</td>\n",
       "      <td>322</td>\n",
       "      <td>7</td>\n",
       "      <td>913.591123</td>\n",
       "      <td>587.196542</td>\n",
       "      <td>7</td>\n",
       "      <td>3</td>\n",
       "      <td>iPhone</td>\n",
       "    </tr>\n",
       "    <tr>\n",
       "      <th>4</th>\n",
       "      <td>4</td>\n",
       "      <td>retained</td>\n",
       "      <td>84</td>\n",
       "      <td>68</td>\n",
       "      <td>168.247020</td>\n",
       "      <td>1562</td>\n",
       "      <td>166</td>\n",
       "      <td>5</td>\n",
       "      <td>3950.202008</td>\n",
       "      <td>1219.555924</td>\n",
       "      <td>27</td>\n",
       "      <td>18</td>\n",
       "      <td>Android</td>\n",
       "    </tr>\n",
       "    <tr>\n",
       "      <th>5</th>\n",
       "      <td>5</td>\n",
       "      <td>retained</td>\n",
       "      <td>113</td>\n",
       "      <td>103</td>\n",
       "      <td>279.544437</td>\n",
       "      <td>2637</td>\n",
       "      <td>0</td>\n",
       "      <td>0</td>\n",
       "      <td>901.238699</td>\n",
       "      <td>439.101397</td>\n",
       "      <td>15</td>\n",
       "      <td>11</td>\n",
       "      <td>iPhone</td>\n",
       "    </tr>\n",
       "    <tr>\n",
       "      <th>6</th>\n",
       "      <td>6</td>\n",
       "      <td>retained</td>\n",
       "      <td>3</td>\n",
       "      <td>2</td>\n",
       "      <td>236.725314</td>\n",
       "      <td>360</td>\n",
       "      <td>185</td>\n",
       "      <td>18</td>\n",
       "      <td>5249.172828</td>\n",
       "      <td>726.577205</td>\n",
       "      <td>28</td>\n",
       "      <td>23</td>\n",
       "      <td>iPhone</td>\n",
       "    </tr>\n",
       "    <tr>\n",
       "      <th>7</th>\n",
       "      <td>7</td>\n",
       "      <td>retained</td>\n",
       "      <td>39</td>\n",
       "      <td>35</td>\n",
       "      <td>176.072845</td>\n",
       "      <td>2999</td>\n",
       "      <td>0</td>\n",
       "      <td>0</td>\n",
       "      <td>7892.052468</td>\n",
       "      <td>2466.981741</td>\n",
       "      <td>22</td>\n",
       "      <td>20</td>\n",
       "      <td>iPhone</td>\n",
       "    </tr>\n",
       "    <tr>\n",
       "      <th>8</th>\n",
       "      <td>8</td>\n",
       "      <td>retained</td>\n",
       "      <td>57</td>\n",
       "      <td>46</td>\n",
       "      <td>183.532018</td>\n",
       "      <td>424</td>\n",
       "      <td>0</td>\n",
       "      <td>26</td>\n",
       "      <td>2651.709764</td>\n",
       "      <td>1594.342984</td>\n",
       "      <td>25</td>\n",
       "      <td>20</td>\n",
       "      <td>Android</td>\n",
       "    </tr>\n",
       "    <tr>\n",
       "      <th>9</th>\n",
       "      <td>9</td>\n",
       "      <td>churned</td>\n",
       "      <td>84</td>\n",
       "      <td>68</td>\n",
       "      <td>244.802115</td>\n",
       "      <td>2997</td>\n",
       "      <td>72</td>\n",
       "      <td>0</td>\n",
       "      <td>6043.460295</td>\n",
       "      <td>2341.838528</td>\n",
       "      <td>7</td>\n",
       "      <td>3</td>\n",
       "      <td>iPhone</td>\n",
       "    </tr>\n",
       "  </tbody>\n",
       "</table>\n",
       "</div>"
      ],
      "text/plain": [
       "   ID     label  sessions  drives  total_sessions  n_days_after_onboarding  \\\n",
       "0   0  retained       283     226      296.748273                     2276   \n",
       "1   1  retained       133     107      326.896596                     1225   \n",
       "2   2  retained       114      95      135.522926                     2651   \n",
       "3   3  retained        49      40       67.589221                       15   \n",
       "4   4  retained        84      68      168.247020                     1562   \n",
       "5   5  retained       113     103      279.544437                     2637   \n",
       "6   6  retained         3       2      236.725314                      360   \n",
       "7   7  retained        39      35      176.072845                     2999   \n",
       "8   8  retained        57      46      183.532018                      424   \n",
       "9   9   churned        84      68      244.802115                     2997   \n",
       "\n",
       "   total_navigations_fav1  total_navigations_fav2  driven_km_drives  \\\n",
       "0                     208                       0       2628.845068   \n",
       "1                      19                      64      13715.920550   \n",
       "2                       0                       0       3059.148818   \n",
       "3                     322                       7        913.591123   \n",
       "4                     166                       5       3950.202008   \n",
       "5                       0                       0        901.238699   \n",
       "6                     185                      18       5249.172828   \n",
       "7                       0                       0       7892.052468   \n",
       "8                       0                      26       2651.709764   \n",
       "9                      72                       0       6043.460295   \n",
       "\n",
       "   duration_minutes_drives  activity_days  driving_days   device  \n",
       "0              1985.775061             28            19  Android  \n",
       "1              3160.472914             13            11   iPhone  \n",
       "2              1610.735904             14             8  Android  \n",
       "3               587.196542              7             3   iPhone  \n",
       "4              1219.555924             27            18  Android  \n",
       "5               439.101397             15            11   iPhone  \n",
       "6               726.577205             28            23   iPhone  \n",
       "7              2466.981741             22            20   iPhone  \n",
       "8              1594.342984             25            20  Android  \n",
       "9              2341.838528              7             3   iPhone  "
      ]
     },
     "execution_count": 4,
     "metadata": {},
     "output_type": "execute_result"
    }
   ],
   "source": [
    "df.head(10)"
   ]
  },
  {
   "cell_type": "code",
   "execution_count": 5,
   "metadata": {},
   "outputs": [
    {
     "name": "stdout",
     "output_type": "stream",
     "text": [
      "<class 'pandas.core.frame.DataFrame'>\n",
      "RangeIndex: 14999 entries, 0 to 14998\n",
      "Data columns (total 13 columns):\n",
      " #   Column                   Non-Null Count  Dtype  \n",
      "---  ------                   --------------  -----  \n",
      " 0   ID                       14999 non-null  int64  \n",
      " 1   label                    14299 non-null  object \n",
      " 2   sessions                 14999 non-null  int64  \n",
      " 3   drives                   14999 non-null  int64  \n",
      " 4   total_sessions           14999 non-null  float64\n",
      " 5   n_days_after_onboarding  14999 non-null  int64  \n",
      " 6   total_navigations_fav1   14999 non-null  int64  \n",
      " 7   total_navigations_fav2   14999 non-null  int64  \n",
      " 8   driven_km_drives         14999 non-null  float64\n",
      " 9   duration_minutes_drives  14999 non-null  float64\n",
      " 10  activity_days            14999 non-null  int64  \n",
      " 11  driving_days             14999 non-null  int64  \n",
      " 12  device                   14999 non-null  object \n",
      "dtypes: float64(3), int64(8), object(2)\n",
      "memory usage: 1.5+ MB\n"
     ]
    }
   ],
   "source": [
    "df.info()"
   ]
  },
  {
   "cell_type": "markdown",
   "metadata": {},
   "source": [
    "As we see from the above results, the column 'label' includes missing values in 700 rows. Let's investigate them in detail. \n",
    "\n",
    "2.1. To understand if missing data is significant for further analysis, I compare the summary statistics of the 700 rows that have missing values in column 'label' with summary statistics of the rows that don't have any missing values."
   ]
  },
  {
   "cell_type": "code",
   "execution_count": 23,
   "metadata": {},
   "outputs": [
    {
     "data": {
      "text/html": [
       "<div>\n",
       "<style scoped>\n",
       "    .dataframe tbody tr th:only-of-type {\n",
       "        vertical-align: middle;\n",
       "    }\n",
       "\n",
       "    .dataframe tbody tr th {\n",
       "        vertical-align: top;\n",
       "    }\n",
       "\n",
       "    .dataframe thead th {\n",
       "        text-align: right;\n",
       "    }\n",
       "</style>\n",
       "<table border=\"1\" class=\"dataframe\">\n",
       "  <thead>\n",
       "    <tr style=\"text-align: right;\">\n",
       "      <th></th>\n",
       "      <th>ID</th>\n",
       "      <th>sessions</th>\n",
       "      <th>drives</th>\n",
       "      <th>total_sessions</th>\n",
       "      <th>n_days_after_onboarding</th>\n",
       "      <th>total_navigations_fav1</th>\n",
       "      <th>total_navigations_fav2</th>\n",
       "      <th>driven_km_drives</th>\n",
       "      <th>duration_minutes_drives</th>\n",
       "      <th>activity_days</th>\n",
       "      <th>driving_days</th>\n",
       "    </tr>\n",
       "  </thead>\n",
       "  <tbody>\n",
       "    <tr>\n",
       "      <th>count</th>\n",
       "      <td>700.000000</td>\n",
       "      <td>700.000000</td>\n",
       "      <td>700.000000</td>\n",
       "      <td>700.000000</td>\n",
       "      <td>700.000000</td>\n",
       "      <td>700.000000</td>\n",
       "      <td>700.000000</td>\n",
       "      <td>700.000000</td>\n",
       "      <td>700.000000</td>\n",
       "      <td>700.000000</td>\n",
       "      <td>700.000000</td>\n",
       "    </tr>\n",
       "    <tr>\n",
       "      <th>mean</th>\n",
       "      <td>7405.584286</td>\n",
       "      <td>80.837143</td>\n",
       "      <td>67.798571</td>\n",
       "      <td>198.483348</td>\n",
       "      <td>1709.295714</td>\n",
       "      <td>118.717143</td>\n",
       "      <td>30.371429</td>\n",
       "      <td>3935.967029</td>\n",
       "      <td>1795.123358</td>\n",
       "      <td>15.382857</td>\n",
       "      <td>12.125714</td>\n",
       "    </tr>\n",
       "    <tr>\n",
       "      <th>std</th>\n",
       "      <td>4306.900234</td>\n",
       "      <td>79.987440</td>\n",
       "      <td>65.271926</td>\n",
       "      <td>140.561715</td>\n",
       "      <td>1005.306562</td>\n",
       "      <td>156.308140</td>\n",
       "      <td>46.306984</td>\n",
       "      <td>2443.107121</td>\n",
       "      <td>1419.242246</td>\n",
       "      <td>8.772714</td>\n",
       "      <td>7.626373</td>\n",
       "    </tr>\n",
       "    <tr>\n",
       "      <th>min</th>\n",
       "      <td>77.000000</td>\n",
       "      <td>0.000000</td>\n",
       "      <td>0.000000</td>\n",
       "      <td>5.582648</td>\n",
       "      <td>16.000000</td>\n",
       "      <td>0.000000</td>\n",
       "      <td>0.000000</td>\n",
       "      <td>290.119811</td>\n",
       "      <td>66.588493</td>\n",
       "      <td>0.000000</td>\n",
       "      <td>0.000000</td>\n",
       "    </tr>\n",
       "    <tr>\n",
       "      <th>25%</th>\n",
       "      <td>3744.500000</td>\n",
       "      <td>23.000000</td>\n",
       "      <td>20.000000</td>\n",
       "      <td>94.056340</td>\n",
       "      <td>869.000000</td>\n",
       "      <td>4.000000</td>\n",
       "      <td>0.000000</td>\n",
       "      <td>2119.344818</td>\n",
       "      <td>779.009271</td>\n",
       "      <td>8.000000</td>\n",
       "      <td>6.000000</td>\n",
       "    </tr>\n",
       "    <tr>\n",
       "      <th>50%</th>\n",
       "      <td>7443.000000</td>\n",
       "      <td>56.000000</td>\n",
       "      <td>47.500000</td>\n",
       "      <td>177.255925</td>\n",
       "      <td>1650.500000</td>\n",
       "      <td>62.500000</td>\n",
       "      <td>10.000000</td>\n",
       "      <td>3421.156721</td>\n",
       "      <td>1414.966279</td>\n",
       "      <td>15.000000</td>\n",
       "      <td>12.000000</td>\n",
       "    </tr>\n",
       "    <tr>\n",
       "      <th>75%</th>\n",
       "      <td>11007.000000</td>\n",
       "      <td>112.250000</td>\n",
       "      <td>94.000000</td>\n",
       "      <td>266.058022</td>\n",
       "      <td>2508.750000</td>\n",
       "      <td>169.250000</td>\n",
       "      <td>43.000000</td>\n",
       "      <td>5166.097373</td>\n",
       "      <td>2443.955404</td>\n",
       "      <td>23.000000</td>\n",
       "      <td>18.000000</td>\n",
       "    </tr>\n",
       "    <tr>\n",
       "      <th>max</th>\n",
       "      <td>14993.000000</td>\n",
       "      <td>556.000000</td>\n",
       "      <td>445.000000</td>\n",
       "      <td>1076.879741</td>\n",
       "      <td>3498.000000</td>\n",
       "      <td>1096.000000</td>\n",
       "      <td>352.000000</td>\n",
       "      <td>15135.391280</td>\n",
       "      <td>9746.253023</td>\n",
       "      <td>31.000000</td>\n",
       "      <td>30.000000</td>\n",
       "    </tr>\n",
       "  </tbody>\n",
       "</table>\n",
       "</div>"
      ],
      "text/plain": [
       "                 ID    sessions      drives  total_sessions  \\\n",
       "count    700.000000  700.000000  700.000000      700.000000   \n",
       "mean    7405.584286   80.837143   67.798571      198.483348   \n",
       "std     4306.900234   79.987440   65.271926      140.561715   \n",
       "min       77.000000    0.000000    0.000000        5.582648   \n",
       "25%     3744.500000   23.000000   20.000000       94.056340   \n",
       "50%     7443.000000   56.000000   47.500000      177.255925   \n",
       "75%    11007.000000  112.250000   94.000000      266.058022   \n",
       "max    14993.000000  556.000000  445.000000     1076.879741   \n",
       "\n",
       "       n_days_after_onboarding  total_navigations_fav1  \\\n",
       "count               700.000000              700.000000   \n",
       "mean               1709.295714              118.717143   \n",
       "std                1005.306562              156.308140   \n",
       "min                  16.000000                0.000000   \n",
       "25%                 869.000000                4.000000   \n",
       "50%                1650.500000               62.500000   \n",
       "75%                2508.750000              169.250000   \n",
       "max                3498.000000             1096.000000   \n",
       "\n",
       "       total_navigations_fav2  driven_km_drives  duration_minutes_drives  \\\n",
       "count              700.000000        700.000000               700.000000   \n",
       "mean                30.371429       3935.967029              1795.123358   \n",
       "std                 46.306984       2443.107121              1419.242246   \n",
       "min                  0.000000        290.119811                66.588493   \n",
       "25%                  0.000000       2119.344818               779.009271   \n",
       "50%                 10.000000       3421.156721              1414.966279   \n",
       "75%                 43.000000       5166.097373              2443.955404   \n",
       "max                352.000000      15135.391280              9746.253023   \n",
       "\n",
       "       activity_days  driving_days  \n",
       "count     700.000000    700.000000  \n",
       "mean       15.382857     12.125714  \n",
       "std         8.772714      7.626373  \n",
       "min         0.000000      0.000000  \n",
       "25%         8.000000      6.000000  \n",
       "50%        15.000000     12.000000  \n",
       "75%        23.000000     18.000000  \n",
       "max        31.000000     30.000000  "
      ]
     },
     "execution_count": 23,
     "metadata": {},
     "output_type": "execute_result"
    }
   ],
   "source": [
    "# Rows with null values\n",
    "label_empty=df[pd.isnull(df['label'])]\n",
    "\n",
    "# Summary stats of rows with null values\n",
    "label_empty.describe()"
   ]
  },
  {
   "cell_type": "code",
   "execution_count": 24,
   "metadata": {},
   "outputs": [
    {
     "data": {
      "text/html": [
       "<div>\n",
       "<style scoped>\n",
       "    .dataframe tbody tr th:only-of-type {\n",
       "        vertical-align: middle;\n",
       "    }\n",
       "\n",
       "    .dataframe tbody tr th {\n",
       "        vertical-align: top;\n",
       "    }\n",
       "\n",
       "    .dataframe thead th {\n",
       "        text-align: right;\n",
       "    }\n",
       "</style>\n",
       "<table border=\"1\" class=\"dataframe\">\n",
       "  <thead>\n",
       "    <tr style=\"text-align: right;\">\n",
       "      <th></th>\n",
       "      <th>ID</th>\n",
       "      <th>sessions</th>\n",
       "      <th>drives</th>\n",
       "      <th>total_sessions</th>\n",
       "      <th>n_days_after_onboarding</th>\n",
       "      <th>total_navigations_fav1</th>\n",
       "      <th>total_navigations_fav2</th>\n",
       "      <th>driven_km_drives</th>\n",
       "      <th>duration_minutes_drives</th>\n",
       "      <th>activity_days</th>\n",
       "      <th>driving_days</th>\n",
       "    </tr>\n",
       "  </thead>\n",
       "  <tbody>\n",
       "    <tr>\n",
       "      <th>count</th>\n",
       "      <td>14299.000000</td>\n",
       "      <td>14299.000000</td>\n",
       "      <td>14299.000000</td>\n",
       "      <td>14299.000000</td>\n",
       "      <td>14299.000000</td>\n",
       "      <td>14299.000000</td>\n",
       "      <td>14299.000000</td>\n",
       "      <td>14299.000000</td>\n",
       "      <td>14299.000000</td>\n",
       "      <td>14299.000000</td>\n",
       "      <td>14299.000000</td>\n",
       "    </tr>\n",
       "    <tr>\n",
       "      <th>mean</th>\n",
       "      <td>7503.573117</td>\n",
       "      <td>80.623820</td>\n",
       "      <td>67.255822</td>\n",
       "      <td>189.547409</td>\n",
       "      <td>1751.822505</td>\n",
       "      <td>121.747395</td>\n",
       "      <td>29.638296</td>\n",
       "      <td>4044.401535</td>\n",
       "      <td>1864.199794</td>\n",
       "      <td>15.544653</td>\n",
       "      <td>12.182530</td>\n",
       "    </tr>\n",
       "    <tr>\n",
       "      <th>std</th>\n",
       "      <td>4331.207621</td>\n",
       "      <td>80.736502</td>\n",
       "      <td>65.947295</td>\n",
       "      <td>136.189764</td>\n",
       "      <td>1008.663834</td>\n",
       "      <td>147.713428</td>\n",
       "      <td>45.350890</td>\n",
       "      <td>2504.977970</td>\n",
       "      <td>1448.005047</td>\n",
       "      <td>9.016088</td>\n",
       "      <td>7.833835</td>\n",
       "    </tr>\n",
       "    <tr>\n",
       "      <th>min</th>\n",
       "      <td>0.000000</td>\n",
       "      <td>0.000000</td>\n",
       "      <td>0.000000</td>\n",
       "      <td>0.220211</td>\n",
       "      <td>4.000000</td>\n",
       "      <td>0.000000</td>\n",
       "      <td>0.000000</td>\n",
       "      <td>60.441250</td>\n",
       "      <td>18.282082</td>\n",
       "      <td>0.000000</td>\n",
       "      <td>0.000000</td>\n",
       "    </tr>\n",
       "    <tr>\n",
       "      <th>25%</th>\n",
       "      <td>3749.500000</td>\n",
       "      <td>23.000000</td>\n",
       "      <td>20.000000</td>\n",
       "      <td>90.457733</td>\n",
       "      <td>878.500000</td>\n",
       "      <td>10.000000</td>\n",
       "      <td>0.000000</td>\n",
       "      <td>2217.319909</td>\n",
       "      <td>840.181344</td>\n",
       "      <td>8.000000</td>\n",
       "      <td>5.000000</td>\n",
       "    </tr>\n",
       "    <tr>\n",
       "      <th>50%</th>\n",
       "      <td>7504.000000</td>\n",
       "      <td>56.000000</td>\n",
       "      <td>48.000000</td>\n",
       "      <td>158.718571</td>\n",
       "      <td>1749.000000</td>\n",
       "      <td>71.000000</td>\n",
       "      <td>9.000000</td>\n",
       "      <td>3496.545617</td>\n",
       "      <td>1479.394387</td>\n",
       "      <td>16.000000</td>\n",
       "      <td>12.000000</td>\n",
       "    </tr>\n",
       "    <tr>\n",
       "      <th>75%</th>\n",
       "      <td>11257.500000</td>\n",
       "      <td>111.000000</td>\n",
       "      <td>93.000000</td>\n",
       "      <td>253.540450</td>\n",
       "      <td>2627.500000</td>\n",
       "      <td>178.000000</td>\n",
       "      <td>43.000000</td>\n",
       "      <td>5299.972162</td>\n",
       "      <td>2466.928876</td>\n",
       "      <td>23.000000</td>\n",
       "      <td>19.000000</td>\n",
       "    </tr>\n",
       "    <tr>\n",
       "      <th>max</th>\n",
       "      <td>14998.000000</td>\n",
       "      <td>743.000000</td>\n",
       "      <td>596.000000</td>\n",
       "      <td>1216.154633</td>\n",
       "      <td>3500.000000</td>\n",
       "      <td>1236.000000</td>\n",
       "      <td>415.000000</td>\n",
       "      <td>21183.401890</td>\n",
       "      <td>15851.727160</td>\n",
       "      <td>31.000000</td>\n",
       "      <td>30.000000</td>\n",
       "    </tr>\n",
       "  </tbody>\n",
       "</table>\n",
       "</div>"
      ],
      "text/plain": [
       "                 ID      sessions        drives  total_sessions  \\\n",
       "count  14299.000000  14299.000000  14299.000000    14299.000000   \n",
       "mean    7503.573117     80.623820     67.255822      189.547409   \n",
       "std     4331.207621     80.736502     65.947295      136.189764   \n",
       "min        0.000000      0.000000      0.000000        0.220211   \n",
       "25%     3749.500000     23.000000     20.000000       90.457733   \n",
       "50%     7504.000000     56.000000     48.000000      158.718571   \n",
       "75%    11257.500000    111.000000     93.000000      253.540450   \n",
       "max    14998.000000    743.000000    596.000000     1216.154633   \n",
       "\n",
       "       n_days_after_onboarding  total_navigations_fav1  \\\n",
       "count             14299.000000            14299.000000   \n",
       "mean               1751.822505              121.747395   \n",
       "std                1008.663834              147.713428   \n",
       "min                   4.000000                0.000000   \n",
       "25%                 878.500000               10.000000   \n",
       "50%                1749.000000               71.000000   \n",
       "75%                2627.500000              178.000000   \n",
       "max                3500.000000             1236.000000   \n",
       "\n",
       "       total_navigations_fav2  driven_km_drives  duration_minutes_drives  \\\n",
       "count            14299.000000      14299.000000             14299.000000   \n",
       "mean                29.638296       4044.401535              1864.199794   \n",
       "std                 45.350890       2504.977970              1448.005047   \n",
       "min                  0.000000         60.441250                18.282082   \n",
       "25%                  0.000000       2217.319909               840.181344   \n",
       "50%                  9.000000       3496.545617              1479.394387   \n",
       "75%                 43.000000       5299.972162              2466.928876   \n",
       "max                415.000000      21183.401890             15851.727160   \n",
       "\n",
       "       activity_days  driving_days  \n",
       "count   14299.000000  14299.000000  \n",
       "mean       15.544653     12.182530  \n",
       "std         9.016088      7.833835  \n",
       "min         0.000000      0.000000  \n",
       "25%         8.000000      5.000000  \n",
       "50%        16.000000     12.000000  \n",
       "75%        23.000000     19.000000  \n",
       "max        31.000000     30.000000  "
      ]
     },
     "execution_count": 24,
     "metadata": {},
     "output_type": "execute_result"
    }
   ],
   "source": [
    "# Rows without null values\n",
    "label_full=df[pd.notnull(df['label'])]\n",
    "\n",
    "# Summary stats of rows without null values\n",
    "label_full.describe()"
   ]
  },
  {
   "cell_type": "markdown",
   "metadata": {},
   "source": [
    "Comparing the above tables, there are no significant differences in the mean and standard deviation of the two datasets. It means that there won't be any significant impact on the result of the analysis if we include or do not include these data in further analysis"
   ]
  },
  {
   "cell_type": "markdown",
   "metadata": {},
   "source": [
    "2.2. Next, I check the two datasets with respect to the 'device' variable."
   ]
  },
  {
   "cell_type": "code",
   "execution_count": 25,
   "metadata": {},
   "outputs": [
    {
     "data": {
      "text/plain": [
       "device\n",
       "iPhone     447\n",
       "Android    253\n",
       "Name: count, dtype: int64"
      ]
     },
     "execution_count": 25,
     "metadata": {},
     "output_type": "execute_result"
    }
   ],
   "source": [
    "# Rows with null values by device\n",
    "label_empty['device'].value_counts()"
   ]
  },
  {
   "cell_type": "code",
   "execution_count": 26,
   "metadata": {},
   "outputs": [
    {
     "name": "stdout",
     "output_type": "stream",
     "text": [
      "device\n",
      "iPhone     0.638571\n",
      "Android    0.361429\n",
      "Name: count, dtype: float64\n"
     ]
    }
   ],
   "source": [
    "# Percentage of iPhone and Android users in rows with null values\n",
    "device_null=label_empty['device'].value_counts()/len(label_empty)\n",
    "print(device_null)"
   ]
  },
  {
   "cell_type": "code",
   "execution_count": 27,
   "metadata": {},
   "outputs": [
    {
     "name": "stdout",
     "output_type": "stream",
     "text": [
      "device\n",
      "iPhone     0.644843\n",
      "Android    0.355157\n",
      "Name: count, dtype: float64\n"
     ]
    }
   ],
   "source": [
    "# Percentage of iPhone and Android users in full dataset\n",
    "device_full=df['device'].value_counts()/len(df)\n",
    "print(device_full)"
   ]
  },
  {
   "cell_type": "markdown",
   "metadata": {},
   "source": [
    "As we see, the percentage of missing values by each device is consistent with their representation in the dataset overall.\n",
    "\n",
    "So I can suggest that there are no patterns in the appearance of the missing values and they appear randomly."
   ]
  },
  {
   "cell_type": "markdown",
   "metadata": {},
   "source": [
    "3. Once I have understood that missing values in the 'label' variable are random and not crucial for further analysis, I can analyze this variable more deeply.\n",
    "First of all, I investigate and compare the number and percentages of users who churned vs. those who were retained"
   ]
  },
  {
   "cell_type": "code",
   "execution_count": 28,
   "metadata": {},
   "outputs": [
    {
     "name": "stdout",
     "output_type": "stream",
     "text": [
      "label\n",
      "retained    11763\n",
      "churned      2536\n",
      "Name: count, dtype: int64\n",
      "\n",
      "label\n",
      "retained    0.822645\n",
      "churned     0.177355\n",
      "Name: proportion, dtype: float64\n"
     ]
    }
   ],
   "source": [
    "# Number of churned vs. retained users\n",
    "label_counts=df['label'].value_counts()\n",
    "print(label_counts)\n",
    "print()\n",
    "label_percentage=df['label'].value_counts(normalize=True)\n",
    "print(label_percentage)"
   ]
  },
  {
   "cell_type": "markdown",
   "metadata": {},
   "source": [
    "Next, I compare the medians of each variable for churned and retained users. The reason for calculating the median and not the mean is that I don't want to take outliers into account"
   ]
  },
  {
   "cell_type": "code",
   "execution_count": 29,
   "metadata": {},
   "outputs": [
    {
     "data": {
      "text/html": [
       "<div>\n",
       "<style scoped>\n",
       "    .dataframe tbody tr th:only-of-type {\n",
       "        vertical-align: middle;\n",
       "    }\n",
       "\n",
       "    .dataframe tbody tr th {\n",
       "        vertical-align: top;\n",
       "    }\n",
       "\n",
       "    .dataframe thead th {\n",
       "        text-align: right;\n",
       "    }\n",
       "</style>\n",
       "<table border=\"1\" class=\"dataframe\">\n",
       "  <thead>\n",
       "    <tr style=\"text-align: right;\">\n",
       "      <th></th>\n",
       "      <th>ID</th>\n",
       "      <th>sessions</th>\n",
       "      <th>drives</th>\n",
       "      <th>total_sessions</th>\n",
       "      <th>n_days_after_onboarding</th>\n",
       "      <th>total_navigations_fav1</th>\n",
       "      <th>total_navigations_fav2</th>\n",
       "      <th>driven_km_drives</th>\n",
       "      <th>duration_minutes_drives</th>\n",
       "      <th>activity_days</th>\n",
       "      <th>driving_days</th>\n",
       "    </tr>\n",
       "    <tr>\n",
       "      <th>label</th>\n",
       "      <th></th>\n",
       "      <th></th>\n",
       "      <th></th>\n",
       "      <th></th>\n",
       "      <th></th>\n",
       "      <th></th>\n",
       "      <th></th>\n",
       "      <th></th>\n",
       "      <th></th>\n",
       "      <th></th>\n",
       "      <th></th>\n",
       "    </tr>\n",
       "  </thead>\n",
       "  <tbody>\n",
       "    <tr>\n",
       "      <th>churned</th>\n",
       "      <td>7477.5</td>\n",
       "      <td>59.0</td>\n",
       "      <td>50.0</td>\n",
       "      <td>164.339042</td>\n",
       "      <td>1321.0</td>\n",
       "      <td>84.5</td>\n",
       "      <td>11.0</td>\n",
       "      <td>3652.655666</td>\n",
       "      <td>1607.183785</td>\n",
       "      <td>8.0</td>\n",
       "      <td>6.0</td>\n",
       "    </tr>\n",
       "    <tr>\n",
       "      <th>retained</th>\n",
       "      <td>7509.0</td>\n",
       "      <td>56.0</td>\n",
       "      <td>47.0</td>\n",
       "      <td>157.586756</td>\n",
       "      <td>1843.0</td>\n",
       "      <td>68.0</td>\n",
       "      <td>9.0</td>\n",
       "      <td>3464.684614</td>\n",
       "      <td>1458.046141</td>\n",
       "      <td>17.0</td>\n",
       "      <td>14.0</td>\n",
       "    </tr>\n",
       "  </tbody>\n",
       "</table>\n",
       "</div>"
      ],
      "text/plain": [
       "              ID  sessions  drives  total_sessions  n_days_after_onboarding  \\\n",
       "label                                                                         \n",
       "churned   7477.5      59.0    50.0      164.339042                   1321.0   \n",
       "retained  7509.0      56.0    47.0      157.586756                   1843.0   \n",
       "\n",
       "          total_navigations_fav1  total_navigations_fav2  driven_km_drives  \\\n",
       "label                                                                        \n",
       "churned                     84.5                    11.0       3652.655666   \n",
       "retained                    68.0                     9.0       3464.684614   \n",
       "\n",
       "          duration_minutes_drives  activity_days  driving_days  \n",
       "label                                                           \n",
       "churned               1607.183785            8.0           6.0  \n",
       "retained              1458.046141           17.0          14.0  "
      ]
     },
     "execution_count": 29,
     "metadata": {},
     "output_type": "execute_result"
    }
   ],
   "source": [
    "# The medians for grouped data by `label`\n",
    "group_label_median=df.groupby(['label']).median(numeric_only=True)\n",
    "group_label_median"
   ]
  },
  {
   "cell_type": "markdown",
   "metadata": {},
   "source": [
    "As a result, I have got an interesting snapshot of the two groups of users, churned vs. retained:\n",
    "\n",
    "Users who churned averaged ~3 more drives in the last month than retained users, but retained users used the app on over twice as many days as churned users in the same time period.\n",
    "\n",
    "The median churned user drove ~200 more kilometers and 2.5 more hours during the last month than the median retained user.\n",
    "\n",
    "It seems that churned users had more drives in fewer days, and their trips were farther and longer in duration. There is a probability that the big part of churned users are the truck drivers and maybe they have other requirements and expectations of the Waze app."
   ]
  },
  {
   "cell_type": "markdown",
   "metadata": {},
   "source": [
    "4. Next, I calculate additional variables that will help me to describe and understand the behavior of users better"
   ]
  },
  {
   "cell_type": "code",
   "execution_count": 13,
   "metadata": {},
   "outputs": [
    {
     "name": "stdout",
     "output_type": "stream",
     "text": [
      "Median kilometers per drive:\n"
     ]
    },
    {
     "data": {
      "text/plain": [
       "label\n",
       "churned     73.053113\n",
       "retained    73.716694\n",
       "dtype: float64"
      ]
     },
     "execution_count": 13,
     "metadata": {},
     "output_type": "execute_result"
    }
   ],
   "source": [
    "# The median kilometers per drive in the last month for both retained and churned users\n",
    "print('Median kilometers per drive:')\n",
    "group_label_median['driven_km_drives']/group_label_median['drives']"
   ]
  },
  {
   "cell_type": "code",
   "execution_count": 14,
   "metadata": {},
   "outputs": [
    {
     "name": "stdout",
     "output_type": "stream",
     "text": [
      "Median kilometers per driving day:\n"
     ]
    },
    {
     "data": {
      "text/plain": [
       "label\n",
       "churned     608.775944\n",
       "retained    247.477472\n",
       "dtype: float64"
      ]
     },
     "execution_count": 14,
     "metadata": {},
     "output_type": "execute_result"
    }
   ],
   "source": [
    "# The median kilometers per driving day in the last month for both retained and churned users\n",
    "print('Median kilometers per driving day:')\n",
    "group_label_median['driven_km_drives']/group_label_median['driving_days']"
   ]
  },
  {
   "cell_type": "code",
   "execution_count": 15,
   "metadata": {},
   "outputs": [
    {
     "name": "stdout",
     "output_type": "stream",
     "text": [
      "Median number of drives per driving day:\n"
     ]
    },
    {
     "data": {
      "text/plain": [
       "label\n",
       "churned     8.333333\n",
       "retained    3.357143\n",
       "dtype: float64"
      ]
     },
     "execution_count": 15,
     "metadata": {},
     "output_type": "execute_result"
    }
   ],
   "source": [
    "# The median number of drives per driving day in the last month for both retained and churned users\n",
    "print('Median number of drives per driving day:')\n",
    "group_label_median['drives']/group_label_median['driving_days']"
   ]
  },
  {
   "cell_type": "markdown",
   "metadata": {},
   "source": [
    "The median user who churned drove 608 kilometers each day they drove last month, which is almost 250% the per-drive-day distance of retained users. The median churned user had a similarly disproporionate number of drives per drive day compared to retained users."
   ]
  },
  {
   "cell_type": "markdown",
   "metadata": {},
   "source": [
    "Next, I examine whether there is an imbalance in how many users churned by device type."
   ]
  },
  {
   "cell_type": "code",
   "execution_count": 21,
   "metadata": {},
   "outputs": [
    {
     "data": {
      "text/plain": [
       "label     device \n",
       "churned   iPhone     1645\n",
       "          Android     891\n",
       "retained  iPhone     7580\n",
       "          Android    4183\n",
       "Name: count, dtype: int64"
      ]
     },
     "execution_count": 21,
     "metadata": {},
     "output_type": "execute_result"
    }
   ],
   "source": [
    "# The number of Android and iPhone users in each group of users\n",
    "df.groupby('label')['device'].value_counts()"
   ]
  },
  {
   "cell_type": "code",
   "execution_count": 22,
   "metadata": {},
   "outputs": [
    {
     "data": {
      "text/plain": [
       "label     device \n",
       "churned   iPhone     0.648659\n",
       "          Android    0.351341\n",
       "retained  iPhone     0.644393\n",
       "          Android    0.355607\n",
       "Name: proportion, dtype: float64"
      ]
     },
     "execution_count": 22,
     "metadata": {},
     "output_type": "execute_result"
    }
   ],
   "source": [
    "# The percentage of Android and iPhone users in each group of users\n",
    "df.groupby('label')['device'].value_counts(normalize=True)"
   ]
  },
  {
   "cell_type": "markdown",
   "metadata": {},
   "source": [
    "The ratio of iPhone users and Android users is consistent between the churned group and the retained group, and those ratios are both consistent with the ratio found in the overall dataset."
   ]
  },
  {
   "cell_type": "markdown",
   "metadata": {},
   "source": [
    "Key insights of Stage 2:\n",
    "1. The dataset given by the client contains 12 variables that represent the main characteristics of 14999 unique users.\n",
    "2. 700 users can't be classified as retained or churned because of the absence of information about their status in column 'label'. Regardless of that, there is no evidence that this missing information has non-random causes of appearance.  \n",
    "3. The dataset contains 82% retained users and 18% churned users\n",
    "4. There is a significant difference in the behavior of churned and retained users. \n",
    " - Churned users averaged ~3 more drives in the last month than retained users.\n",
    " - Retained users used the app on over twice as many days as churned users in the last month.\n",
    " - The median churned user drove ~200 more kilometers and 2.5 more hours during the last month than the median retained user. \n",
    " - The median user who churned drove 608 kilometers each day they drove last month, which is almost 250% the per-drive-day distance of retained users.\n",
    "\n",
    "I can suggest that there are a lot of truckers among the churned users. As they are different from usual commuters, Waze should investigate their requirements and expectations of the Waze app in more detail. It could help to reduce the churn of users and increase the satisfaction rate of the Waze app.  \n",
    "5. It is clear from the analysis that, regardless of whether a user churned or not, the users represented in this dataset are serious drivers. It would probably be safe to assume that this data does not represent typical drivers or commuters in general. According to the fact how much these users drive, I would recommend to to gather more data on these super-drivers. It's possible that the reason for their driving so much is also the reason why the Waze app does not meet their specific set of needs, which may differ from the needs of a more typical driver, such as a commuter. "
   ]
  }
 ],
 "metadata": {
  "kernelspec": {
   "display_name": "Python 3",
   "language": "python",
   "name": "python3"
  },
  "language_info": {
   "codemirror_mode": {
    "name": "ipython",
    "version": 3
   },
   "file_extension": ".py",
   "mimetype": "text/x-python",
   "name": "python",
   "nbconvert_exporter": "python",
   "pygments_lexer": "ipython3",
   "version": "3.11.4"
  },
  "orig_nbformat": 4
 },
 "nbformat": 4,
 "nbformat_minor": 2
}
